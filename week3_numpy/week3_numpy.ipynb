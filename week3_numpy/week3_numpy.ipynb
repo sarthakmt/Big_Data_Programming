{
 "cells": [
  {
   "cell_type": "code",
   "execution_count": 1,
   "metadata": {},
   "outputs": [],
   "source": [
    "import numpy as np"
   ]
  },
  {
   "cell_type": "code",
   "execution_count": 2,
   "metadata": {},
   "outputs": [
    {
     "data": {
      "text/plain": [
       "array([ 0, -1,  2, -1,  4, -1,  6, -1,  8, -1])"
      ]
     },
     "execution_count": 2,
     "metadata": {},
     "output_type": "execute_result"
    }
   ],
   "source": [
    "# Exercise 1: \n",
    "# How to replace items that satisfy a condition with another value in numpy array?(2 Points) Replace all odd numbers in arr with -1\n",
    "# arr = np.array([0, 1, 2, 3, 4, 5, 6, 7, 8, 9])\n",
    "# Desired Output:array([ 0, -1, 2, -1, 4, -1, 6, -1, 8, -1])\n",
    "\n",
    "arr = np.array([0, 1, 2, 3, 4, 5, 6, 7, 8, 9])\n",
    "arr[arr%2!=0] = -1\n",
    "arr"
   ]
  },
  {
   "cell_type": "code",
   "execution_count": 3,
   "metadata": {},
   "outputs": [
    {
     "data": {
      "text/plain": [
       "array([[0, 1, 2, 3, 4],\n",
       "       [5, 6, 7, 8, 9]])"
      ]
     },
     "execution_count": 3,
     "metadata": {},
     "output_type": "execute_result"
    }
   ],
   "source": [
    "# Exercise 2: \n",
    "# How to reshape an array?(2 Points)\n",
    "# Convert a 1D array to a 2D array with 2 rows\n",
    "# arr = np.arange(10)\n",
    "# Desired Output:([[0, 1, 2, 3, 4],[5, 6, 7, 8, 9]])\n",
    "\n",
    "arr = np.arange(10)\n",
    "np.reshape(arr,(2,5))  #https://docs.scipy.org/doc/numpy/reference/generated/numpy.reshape.html"
   ]
  },
  {
   "cell_type": "code",
   "execution_count": 4,
   "metadata": {},
   "outputs": [
    {
     "data": {
      "text/plain": [
       "array([1, 1, 1, 2, 2, 2, 3, 3, 3, 1, 2, 3, 1, 2, 3, 1, 2, 3])"
      ]
     },
     "execution_count": 4,
     "metadata": {},
     "output_type": "execute_result"
    }
   ],
   "source": [
    "# Exercise 3: \n",
    "# How to generate custom sequences in numpy without hardcoding?(2 Points) \n",
    "# Create the following pattern without hardcoding. Use only numpy functions and the below input array\n",
    "# arr = np.array([1,2,3])\n",
    "# Desired Output:array([1, 1, 1, 2, 2, 2, 3, 3, 3, 1, 2, 3, 1, 2, 3, 1, 2, 3])\n",
    "\n",
    "arr = np.array([1,2,3])\n",
    "\n",
    "# 2 independent operations\n",
    "arr1 = np.repeat(arr,3) # array([1, 1, 1, 2, 2, 2, 3, 3, 3]) #https://docs.scipy.org/doc/numpy/reference/generated/numpy.repeat.html\n",
    "#arr1 = np.column_stack((arr1,arr1,arr1)).flatten() # array([1, 1, 1, 2, 2, 2, 3, 3, 3])\n",
    "arr2 = np.repeat([arr],3, axis=0).flatten() # array([1, 2, 3, 1, 2, 3, 1, 2, 3])\n",
    "\n",
    "# appending to 1 array\n",
    "arr3 = np.append(arr1,arr2)\n",
    "arr3"
   ]
  },
  {
   "cell_type": "code",
   "execution_count": 5,
   "metadata": {},
   "outputs": [
    {
     "data": {
      "text/plain": [
       "array([2, 4])"
      ]
     },
     "execution_count": 5,
     "metadata": {},
     "output_type": "execute_result"
    }
   ],
   "source": [
    "# Exercise 4: \n",
    "# How to get the common items between two python numpy arrays?(2 Points) Get the common items between a and b\n",
    "# a = np.array([1,2,3,2,3,4,3,4,5,6])\n",
    "# b = np.array([7,2,10,2,7,4,9,4,9,8])\n",
    "# Desired Output:(array([2, 4]))\n",
    "\n",
    "a = np.array([1,2,3,2,3,4,3,4,5,6])\n",
    "b = np.array([7,2,10,2,7,4,9,4,9,8])\n",
    "\n",
    "# https://stackoverflow.com/questions/40903518/match-two-numpy-arrays-to-find-the-same-elements\n",
    "# https://docs.scipy.org/doc/numpy/reference/generated/numpy.in1d.html\n",
    "# Test whether each element of a 1-D array is also present in a second array\n",
    "\n",
    "match = a[np.in1d(a,b)]\n",
    "np.unique(match)"
   ]
  },
  {
   "cell_type": "code",
   "execution_count": 6,
   "metadata": {},
   "outputs": [
    {
     "data": {
      "text/plain": [
       "(array([1, 3, 5, 7], dtype=int64),)"
      ]
     },
     "execution_count": 6,
     "metadata": {},
     "output_type": "execute_result"
    }
   ],
   "source": [
    "# Exercise 5:\n",
    "# How to get the positions where elements of two arrays match?(2 Points) Get the positions where elements of a and b match\n",
    "# a = np.array((1,2,3,2,3,4,3,4,5,6])\n",
    "# b = np.array([7,2,10,2,7,4,9,4,9,8])\n",
    "# Desired Output:(array([1, 3, 5, 7]),)\n",
    "\n",
    "a = np.array([1,2,3,2,3,4,3,4,5,6])\n",
    "b = np.array([7,2,10,2,7,4,9,4,9,8])\n",
    "\n",
    "np.where(np.in1d(a,b)) # https://docs.scipy.org/doc/numpy/reference/generated/numpy.where.html\n"
   ]
  },
  {
   "cell_type": "code",
   "execution_count": 7,
   "metadata": {},
   "outputs": [
    {
     "data": {
      "text/plain": [
       "array([[6.03733396, 9.3685336 , 7.03138265],\n",
       "       [9.49778393, 9.09449506, 6.11389822],\n",
       "       [6.90954375, 6.82532881, 8.54850079],\n",
       "       [8.88869412, 8.76444888, 9.66878534],\n",
       "       [5.1086146 , 9.93126968, 5.21448261]])"
      ]
     },
     "execution_count": 7,
     "metadata": {},
     "output_type": "execute_result"
    }
   ],
   "source": [
    "# Exercise 6: \n",
    "# How to create a 2D array containing random floats between 5 and 10?(2 Points)\n",
    "# Create a 2D array of shape 5x3 to contain random decimal numbers between 5 and 10.\n",
    "\n",
    "np.random.uniform(5,10,15).reshape(5,3) #https://docs.scipy.org/doc/numpy/reference/generated/numpy.random.uniform.html"
   ]
  },
  {
   "cell_type": "code",
   "execution_count": 8,
   "metadata": {},
   "outputs": [
    {
     "data": {
      "text/plain": [
       "array([ 0,  1,  2, ..., 12, 13, 14])"
      ]
     },
     "execution_count": 8,
     "metadata": {},
     "output_type": "execute_result"
    }
   ],
   "source": [
    "# Exercise 7:\n",
    "# How to limit the number of items printed in output of numpy array to 6?(2 Points)\n",
    "# Limit the number of items printed in python numpy array a to a maximum of 6 elements.\n",
    "# arr = np.arange(15)\n",
    "# Desired Output:array([ 0, 1, 2, ..., 12, 13, 14])\n",
    "\n",
    "np.set_printoptions(threshold=6) # https://docs.scipy.org/doc/numpy-1.14.0/reference/generated/numpy.set_printoptions.html\n",
    "arr = np.arange(15)\n",
    "arr"
   ]
  },
  {
   "cell_type": "code",
   "execution_count": 9,
   "metadata": {},
   "outputs": [
    {
     "data": {
      "text/plain": [
       "array([[0.00078772, 0.00030495, 0.00010377],\n",
       "       [0.00099396, 0.00063592, 0.0007474 ],\n",
       "       [0.00012286, 0.00099394, 0.00086861]])"
      ]
     },
     "execution_count": 9,
     "metadata": {},
     "output_type": "execute_result"
    }
   ],
   "source": [
    "# Exercise 8:\n",
    "# How to pretty print a numpy array by suppressing the scientific notation (like 1e10)?(2 Points)\n",
    "# Limit the number of items printed in python numpy array a to a maximum of 6 elements. \n",
    "# np.random.seed(100) rand_arr = np.random.random([3,3])/1e3\n",
    "# Desired Output:array([[ 0.000543, 0.000278, 0.000425], | 0.000845, 0.000005, 0.000122], [ 0.000671, 0.000826, 0.000137]])\n",
    "\n",
    "np.set_printoptions(suppress=True) # https://docs.scipy.org/doc/numpy-1.14.0/reference/generated/numpy.set_printoptions.html\n",
    "rand_arr = np.random.random([3,3])/1e3\n",
    "rand_arr"
   ]
  },
  {
   "cell_type": "code",
   "execution_count": 10,
   "metadata": {},
   "outputs": [
    {
     "name": "stdout",
     "output_type": "stream",
     "text": [
      "[[0 1 2]\n",
      " [3 4 5]\n",
      " [6 7 8]]\n",
      "\n",
      "swapped columns 1 and 2 array is: \n",
      "\n",
      "[[1 0 2]\n",
      " [4 3 5]\n",
      " [7 6 8]]\n"
     ]
    }
   ],
   "source": [
    "# Exercise 9: \n",
    "# How to swap two columns in a 2d numpy array?(2 Points) Swap columns 1 and 2 in the array arr.\n",
    "# arr = np.arange(9).reshape(3,3)\n",
    "\n",
    "arr = np.arange(9).reshape(3,3)\n",
    "arr1 = arr.copy()\n",
    "print(arr)\n",
    "print(\"\\nswapped columns 1 and 2 array is: \\n\")\n",
    "arr1[:, 0] = arr1[:, 1] \n",
    "arr1[:, 1] = arr[:, 0]\n",
    "print(arr1)"
   ]
  },
  {
   "cell_type": "code",
   "execution_count": 11,
   "metadata": {},
   "outputs": [
    {
     "name": "stdout",
     "output_type": "stream",
     "text": [
      "[[0 1 2]\n",
      " [3 4 5]\n",
      " [6 7 8]]\n",
      "\n",
      "swapped rows 1 and 2 array is: \n",
      "\n",
      "[[3 4 5]\n",
      " [0 1 2]\n",
      " [6 7 8]]\n"
     ]
    }
   ],
   "source": [
    "# Exercise 10: \n",
    "# How to swap two rows in a 2d numpy array?(2 Points)\n",
    "# Swap rows 1 and 2 in the array arr:\n",
    "# arr = np.arange(9).reshape(3,3) \n",
    "\n",
    "arr = np.arange(9).reshape(3,3) \n",
    "arr1 = arr.copy()\n",
    "print(arr)\n",
    "print(\"\\nswapped rows 1 and 2 array is: \\n\")\n",
    "arr1[0, :] = arr1[1, :] \n",
    "arr1[1, :] = arr[0, :]\n",
    "print(arr1)"
   ]
  }
 ],
 "metadata": {
  "kernelspec": {
   "display_name": "Python 3",
   "language": "python",
   "name": "python3"
  },
  "language_info": {
   "codemirror_mode": {
    "name": "ipython",
    "version": 3
   },
   "file_extension": ".py",
   "mimetype": "text/x-python",
   "name": "python",
   "nbconvert_exporter": "python",
   "pygments_lexer": "ipython3",
   "version": "3.7.3"
  }
 },
 "nbformat": 4,
 "nbformat_minor": 2
}
